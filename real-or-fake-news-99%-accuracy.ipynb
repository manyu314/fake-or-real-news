{
 "cells": [
  {
   "cell_type": "code",
   "execution_count": 1,
   "id": "extended-collect",
   "metadata": {
    "_cell_guid": "b1076dfc-b9ad-4769-8c92-a6c4dae69d19",
    "_uuid": "8f2839f25d086af736a60e9eeb907d3b93b6e0e5",
    "execution": {
     "iopub.execute_input": "2021-06-21T06:11:20.285083Z",
     "iopub.status.busy": "2021-06-21T06:11:20.284315Z",
     "iopub.status.idle": "2021-06-21T06:11:21.263291Z",
     "shell.execute_reply": "2021-06-21T06:11:21.262033Z",
     "shell.execute_reply.started": "2021-06-21T04:39:11.583158Z"
    },
    "papermill": {
     "duration": 1.026043,
     "end_time": "2021-06-21T06:11:21.263518",
     "exception": false,
     "start_time": "2021-06-21T06:11:20.237475",
     "status": "completed"
    },
    "tags": []
   },
   "outputs": [
    {
     "name": "stdout",
     "output_type": "stream",
     "text": [
      "/kaggle/input/fake-and-real-news-dataset/True.csv\n",
      "/kaggle/input/fake-and-real-news-dataset/Fake.csv\n"
     ]
    }
   ],
   "source": [
    "# This Python 3 environment comes with many helpful analytics libraries installed\n",
    "# It is defined by the kaggle/python Docker image: https://github.com/kaggle/docker-python\n",
    "# For example, here's several helpful packages to load\n",
    "\n",
    "import numpy as np # linear algebra\n",
    "import pandas as pd # data processing, CSV file I/O (e.g. pd.read_csv)\n",
    "\n",
    "# visualization\n",
    "import matplotlib.pyplot as plt\n",
    "import seaborn as sns\n",
    "\n",
    "# Input data files are available in the read-only \"../input/\" directory\n",
    "# For example, running this (by clicking run or pressing Shift+Enter) will list all files under the input directory\n",
    "\n",
    "import os\n",
    "for dirname, _, filenames in os.walk('/kaggle/input'):\n",
    "    for filename in filenames:\n",
    "        print(os.path.join(dirname, filename))\n",
    "\n",
    "# You can write up to 20GB to the current directory (/kaggle/working/) that gets preserved as output when you create a version using \"Save & Run All\" \n",
    "# You can also write temporary files to /kaggle/temp/, but they won't be saved outside of the current session"
   ]
  },
  {
   "cell_type": "code",
   "execution_count": 2,
   "id": "subject-mobility",
   "metadata": {
    "execution": {
     "iopub.execute_input": "2021-06-21T06:11:21.339508Z",
     "iopub.status.busy": "2021-06-21T06:11:21.338720Z",
     "iopub.status.idle": "2021-06-21T06:11:24.406317Z",
     "shell.execute_reply": "2021-06-21T06:11:24.405580Z",
     "shell.execute_reply.started": "2021-06-21T04:42:53.805646Z"
    },
    "papermill": {
     "duration": 3.108073,
     "end_time": "2021-06-21T06:11:24.406490",
     "exception": false,
     "start_time": "2021-06-21T06:11:21.298417",
     "status": "completed"
    },
    "tags": []
   },
   "outputs": [],
   "source": [
    "# Let's get both the data\n",
    "fake = pd.read_csv('/kaggle/input/fake-and-real-news-dataset/Fake.csv')\n",
    "true = pd.read_csv('/kaggle/input/fake-and-real-news-dataset/True.csv')"
   ]
  },
  {
   "cell_type": "code",
   "execution_count": 3,
   "id": "seeing-sewing",
   "metadata": {
    "execution": {
     "iopub.execute_input": "2021-06-21T06:11:24.484977Z",
     "iopub.status.busy": "2021-06-21T06:11:24.484109Z",
     "iopub.status.idle": "2021-06-21T06:11:24.507537Z",
     "shell.execute_reply": "2021-06-21T06:11:24.506810Z",
     "shell.execute_reply.started": "2021-06-21T04:43:43.548325Z"
    },
    "papermill": {
     "duration": 0.068404,
     "end_time": "2021-06-21T06:11:24.507715",
     "exception": false,
     "start_time": "2021-06-21T06:11:24.439311",
     "status": "completed"
    },
    "tags": []
   },
   "outputs": [
    {
     "data": {
      "text/html": [
       "<div>\n",
       "<style scoped>\n",
       "    .dataframe tbody tr th:only-of-type {\n",
       "        vertical-align: middle;\n",
       "    }\n",
       "\n",
       "    .dataframe tbody tr th {\n",
       "        vertical-align: top;\n",
       "    }\n",
       "\n",
       "    .dataframe thead th {\n",
       "        text-align: right;\n",
       "    }\n",
       "</style>\n",
       "<table border=\"1\" class=\"dataframe\">\n",
       "  <thead>\n",
       "    <tr style=\"text-align: right;\">\n",
       "      <th></th>\n",
       "      <th>title</th>\n",
       "      <th>text</th>\n",
       "      <th>subject</th>\n",
       "      <th>date</th>\n",
       "    </tr>\n",
       "  </thead>\n",
       "  <tbody>\n",
       "    <tr>\n",
       "      <th>0</th>\n",
       "      <td>Donald Trump Sends Out Embarrassing New Year’...</td>\n",
       "      <td>Donald Trump just couldn t wish all Americans ...</td>\n",
       "      <td>News</td>\n",
       "      <td>December 31, 2017</td>\n",
       "    </tr>\n",
       "    <tr>\n",
       "      <th>1</th>\n",
       "      <td>Drunk Bragging Trump Staffer Started Russian ...</td>\n",
       "      <td>House Intelligence Committee Chairman Devin Nu...</td>\n",
       "      <td>News</td>\n",
       "      <td>December 31, 2017</td>\n",
       "    </tr>\n",
       "    <tr>\n",
       "      <th>2</th>\n",
       "      <td>Sheriff David Clarke Becomes An Internet Joke...</td>\n",
       "      <td>On Friday, it was revealed that former Milwauk...</td>\n",
       "      <td>News</td>\n",
       "      <td>December 30, 2017</td>\n",
       "    </tr>\n",
       "    <tr>\n",
       "      <th>3</th>\n",
       "      <td>Trump Is So Obsessed He Even Has Obama’s Name...</td>\n",
       "      <td>On Christmas day, Donald Trump announced that ...</td>\n",
       "      <td>News</td>\n",
       "      <td>December 29, 2017</td>\n",
       "    </tr>\n",
       "    <tr>\n",
       "      <th>4</th>\n",
       "      <td>Pope Francis Just Called Out Donald Trump Dur...</td>\n",
       "      <td>Pope Francis used his annual Christmas Day mes...</td>\n",
       "      <td>News</td>\n",
       "      <td>December 25, 2017</td>\n",
       "    </tr>\n",
       "  </tbody>\n",
       "</table>\n",
       "</div>"
      ],
      "text/plain": [
       "                                               title  \\\n",
       "0   Donald Trump Sends Out Embarrassing New Year’...   \n",
       "1   Drunk Bragging Trump Staffer Started Russian ...   \n",
       "2   Sheriff David Clarke Becomes An Internet Joke...   \n",
       "3   Trump Is So Obsessed He Even Has Obama’s Name...   \n",
       "4   Pope Francis Just Called Out Donald Trump Dur...   \n",
       "\n",
       "                                                text subject  \\\n",
       "0  Donald Trump just couldn t wish all Americans ...    News   \n",
       "1  House Intelligence Committee Chairman Devin Nu...    News   \n",
       "2  On Friday, it was revealed that former Milwauk...    News   \n",
       "3  On Christmas day, Donald Trump announced that ...    News   \n",
       "4  Pope Francis used his annual Christmas Day mes...    News   \n",
       "\n",
       "                date  \n",
       "0  December 31, 2017  \n",
       "1  December 31, 2017  \n",
       "2  December 30, 2017  \n",
       "3  December 29, 2017  \n",
       "4  December 25, 2017  "
      ]
     },
     "execution_count": 3,
     "metadata": {},
     "output_type": "execute_result"
    }
   ],
   "source": [
    "# Fake news\n",
    "fake.head()"
   ]
  },
  {
   "cell_type": "code",
   "execution_count": 4,
   "id": "intended-envelope",
   "metadata": {
    "execution": {
     "iopub.execute_input": "2021-06-21T06:11:24.587984Z",
     "iopub.status.busy": "2021-06-21T06:11:24.587260Z",
     "iopub.status.idle": "2021-06-21T06:11:24.595830Z",
     "shell.execute_reply": "2021-06-21T06:11:24.594752Z",
     "shell.execute_reply.started": "2021-06-21T04:44:08.98324Z"
    },
    "papermill": {
     "duration": 0.053472,
     "end_time": "2021-06-21T06:11:24.596011",
     "exception": false,
     "start_time": "2021-06-21T06:11:24.542539",
     "status": "completed"
    },
    "tags": []
   },
   "outputs": [
    {
     "data": {
      "text/html": [
       "<div>\n",
       "<style scoped>\n",
       "    .dataframe tbody tr th:only-of-type {\n",
       "        vertical-align: middle;\n",
       "    }\n",
       "\n",
       "    .dataframe tbody tr th {\n",
       "        vertical-align: top;\n",
       "    }\n",
       "\n",
       "    .dataframe thead th {\n",
       "        text-align: right;\n",
       "    }\n",
       "</style>\n",
       "<table border=\"1\" class=\"dataframe\">\n",
       "  <thead>\n",
       "    <tr style=\"text-align: right;\">\n",
       "      <th></th>\n",
       "      <th>title</th>\n",
       "      <th>text</th>\n",
       "      <th>subject</th>\n",
       "      <th>date</th>\n",
       "    </tr>\n",
       "  </thead>\n",
       "  <tbody>\n",
       "    <tr>\n",
       "      <th>0</th>\n",
       "      <td>As U.S. budget fight looms, Republicans flip t...</td>\n",
       "      <td>WASHINGTON (Reuters) - The head of a conservat...</td>\n",
       "      <td>politicsNews</td>\n",
       "      <td>December 31, 2017</td>\n",
       "    </tr>\n",
       "    <tr>\n",
       "      <th>1</th>\n",
       "      <td>U.S. military to accept transgender recruits o...</td>\n",
       "      <td>WASHINGTON (Reuters) - Transgender people will...</td>\n",
       "      <td>politicsNews</td>\n",
       "      <td>December 29, 2017</td>\n",
       "    </tr>\n",
       "    <tr>\n",
       "      <th>2</th>\n",
       "      <td>Senior U.S. Republican senator: 'Let Mr. Muell...</td>\n",
       "      <td>WASHINGTON (Reuters) - The special counsel inv...</td>\n",
       "      <td>politicsNews</td>\n",
       "      <td>December 31, 2017</td>\n",
       "    </tr>\n",
       "    <tr>\n",
       "      <th>3</th>\n",
       "      <td>FBI Russia probe helped by Australian diplomat...</td>\n",
       "      <td>WASHINGTON (Reuters) - Trump campaign adviser ...</td>\n",
       "      <td>politicsNews</td>\n",
       "      <td>December 30, 2017</td>\n",
       "    </tr>\n",
       "    <tr>\n",
       "      <th>4</th>\n",
       "      <td>Trump wants Postal Service to charge 'much mor...</td>\n",
       "      <td>SEATTLE/WASHINGTON (Reuters) - President Donal...</td>\n",
       "      <td>politicsNews</td>\n",
       "      <td>December 29, 2017</td>\n",
       "    </tr>\n",
       "  </tbody>\n",
       "</table>\n",
       "</div>"
      ],
      "text/plain": [
       "                                               title  \\\n",
       "0  As U.S. budget fight looms, Republicans flip t...   \n",
       "1  U.S. military to accept transgender recruits o...   \n",
       "2  Senior U.S. Republican senator: 'Let Mr. Muell...   \n",
       "3  FBI Russia probe helped by Australian diplomat...   \n",
       "4  Trump wants Postal Service to charge 'much mor...   \n",
       "\n",
       "                                                text       subject  \\\n",
       "0  WASHINGTON (Reuters) - The head of a conservat...  politicsNews   \n",
       "1  WASHINGTON (Reuters) - Transgender people will...  politicsNews   \n",
       "2  WASHINGTON (Reuters) - The special counsel inv...  politicsNews   \n",
       "3  WASHINGTON (Reuters) - Trump campaign adviser ...  politicsNews   \n",
       "4  SEATTLE/WASHINGTON (Reuters) - President Donal...  politicsNews   \n",
       "\n",
       "                 date  \n",
       "0  December 31, 2017   \n",
       "1  December 29, 2017   \n",
       "2  December 31, 2017   \n",
       "3  December 30, 2017   \n",
       "4  December 29, 2017   "
      ]
     },
     "execution_count": 4,
     "metadata": {},
     "output_type": "execute_result"
    }
   ],
   "source": [
    "# Real/True news\n",
    "true.head()"
   ]
  },
  {
   "cell_type": "code",
   "execution_count": 5,
   "id": "equipped-circulation",
   "metadata": {
    "execution": {
     "iopub.execute_input": "2021-06-21T06:11:24.669354Z",
     "iopub.status.busy": "2021-06-21T06:11:24.668590Z",
     "iopub.status.idle": "2021-06-21T06:11:24.676993Z",
     "shell.execute_reply": "2021-06-21T06:11:24.676312Z",
     "shell.execute_reply.started": "2021-06-21T04:47:02.415919Z"
    },
    "papermill": {
     "duration": 0.047242,
     "end_time": "2021-06-21T06:11:24.677176",
     "exception": false,
     "start_time": "2021-06-21T06:11:24.629934",
     "status": "completed"
    },
    "tags": []
   },
   "outputs": [],
   "source": [
    "# Let's insert a new column 'Real_or_Fake'.It will help when we combine both the tables in determining \n",
    "# Fake or Real news\n",
    "fake['Real_or_Fake'] = 'Fake'\n",
    "true['Real_or_Fake'] = 'Real'"
   ]
  },
  {
   "cell_type": "markdown",
   "id": "proper-accident",
   "metadata": {
    "papermill": {
     "duration": 0.034444,
     "end_time": "2021-06-21T06:11:24.745361",
     "exception": false,
     "start_time": "2021-06-21T06:11:24.710917",
     "status": "completed"
    },
    "tags": []
   },
   "source": [
    "**Combining fake and true table into one**"
   ]
  },
  {
   "cell_type": "code",
   "execution_count": 6,
   "id": "intensive-diagnosis",
   "metadata": {
    "execution": {
     "iopub.execute_input": "2021-06-21T06:11:24.818986Z",
     "iopub.status.busy": "2021-06-21T06:11:24.818224Z",
     "iopub.status.idle": "2021-06-21T06:11:24.846302Z",
     "shell.execute_reply": "2021-06-21T06:11:24.846844Z",
     "shell.execute_reply.started": "2021-06-21T04:49:12.063858Z"
    },
    "papermill": {
     "duration": 0.067952,
     "end_time": "2021-06-21T06:11:24.847061",
     "exception": false,
     "start_time": "2021-06-21T06:11:24.779109",
     "status": "completed"
    },
    "tags": []
   },
   "outputs": [
    {
     "data": {
      "text/html": [
       "<div>\n",
       "<style scoped>\n",
       "    .dataframe tbody tr th:only-of-type {\n",
       "        vertical-align: middle;\n",
       "    }\n",
       "\n",
       "    .dataframe tbody tr th {\n",
       "        vertical-align: top;\n",
       "    }\n",
       "\n",
       "    .dataframe thead th {\n",
       "        text-align: right;\n",
       "    }\n",
       "</style>\n",
       "<table border=\"1\" class=\"dataframe\">\n",
       "  <thead>\n",
       "    <tr style=\"text-align: right;\">\n",
       "      <th></th>\n",
       "      <th>title</th>\n",
       "      <th>text</th>\n",
       "      <th>subject</th>\n",
       "      <th>date</th>\n",
       "      <th>Real_or_Fake</th>\n",
       "    </tr>\n",
       "  </thead>\n",
       "  <tbody>\n",
       "    <tr>\n",
       "      <th>0</th>\n",
       "      <td>As U.S. budget fight looms, Republicans flip t...</td>\n",
       "      <td>WASHINGTON (Reuters) - The head of a conservat...</td>\n",
       "      <td>politicsNews</td>\n",
       "      <td>December 31, 2017</td>\n",
       "      <td>Real</td>\n",
       "    </tr>\n",
       "    <tr>\n",
       "      <th>1</th>\n",
       "      <td>U.S. military to accept transgender recruits o...</td>\n",
       "      <td>WASHINGTON (Reuters) - Transgender people will...</td>\n",
       "      <td>politicsNews</td>\n",
       "      <td>December 29, 2017</td>\n",
       "      <td>Real</td>\n",
       "    </tr>\n",
       "    <tr>\n",
       "      <th>2</th>\n",
       "      <td>Senior U.S. Republican senator: 'Let Mr. Muell...</td>\n",
       "      <td>WASHINGTON (Reuters) - The special counsel inv...</td>\n",
       "      <td>politicsNews</td>\n",
       "      <td>December 31, 2017</td>\n",
       "      <td>Real</td>\n",
       "    </tr>\n",
       "    <tr>\n",
       "      <th>3</th>\n",
       "      <td>FBI Russia probe helped by Australian diplomat...</td>\n",
       "      <td>WASHINGTON (Reuters) - Trump campaign adviser ...</td>\n",
       "      <td>politicsNews</td>\n",
       "      <td>December 30, 2017</td>\n",
       "      <td>Real</td>\n",
       "    </tr>\n",
       "    <tr>\n",
       "      <th>4</th>\n",
       "      <td>Trump wants Postal Service to charge 'much mor...</td>\n",
       "      <td>SEATTLE/WASHINGTON (Reuters) - President Donal...</td>\n",
       "      <td>politicsNews</td>\n",
       "      <td>December 29, 2017</td>\n",
       "      <td>Real</td>\n",
       "    </tr>\n",
       "  </tbody>\n",
       "</table>\n",
       "</div>"
      ],
      "text/plain": [
       "                                               title  \\\n",
       "0  As U.S. budget fight looms, Republicans flip t...   \n",
       "1  U.S. military to accept transgender recruits o...   \n",
       "2  Senior U.S. Republican senator: 'Let Mr. Muell...   \n",
       "3  FBI Russia probe helped by Australian diplomat...   \n",
       "4  Trump wants Postal Service to charge 'much mor...   \n",
       "\n",
       "                                                text       subject  \\\n",
       "0  WASHINGTON (Reuters) - The head of a conservat...  politicsNews   \n",
       "1  WASHINGTON (Reuters) - Transgender people will...  politicsNews   \n",
       "2  WASHINGTON (Reuters) - The special counsel inv...  politicsNews   \n",
       "3  WASHINGTON (Reuters) - Trump campaign adviser ...  politicsNews   \n",
       "4  SEATTLE/WASHINGTON (Reuters) - President Donal...  politicsNews   \n",
       "\n",
       "                 date Real_or_Fake  \n",
       "0  December 31, 2017          Real  \n",
       "1  December 29, 2017          Real  \n",
       "2  December 31, 2017          Real  \n",
       "3  December 30, 2017          Real  \n",
       "4  December 29, 2017          Real  "
      ]
     },
     "execution_count": 6,
     "metadata": {},
     "output_type": "execute_result"
    }
   ],
   "source": [
    "news = pd.concat([true,fake],axis=0,ignore_index=True)\n",
    "\n",
    "# First 5 rows of the news table\n",
    "news.head()"
   ]
  },
  {
   "cell_type": "code",
   "execution_count": 7,
   "id": "eleven-spank",
   "metadata": {
    "execution": {
     "iopub.execute_input": "2021-06-21T06:11:24.961783Z",
     "iopub.status.busy": "2021-06-21T06:11:24.945688Z",
     "iopub.status.idle": "2021-06-21T06:11:25.137761Z",
     "shell.execute_reply": "2021-06-21T06:11:25.137062Z",
     "shell.execute_reply.started": "2021-06-21T04:50:47.189261Z"
    },
    "papermill": {
     "duration": 0.25676,
     "end_time": "2021-06-21T06:11:25.137951",
     "exception": false,
     "start_time": "2021-06-21T06:11:24.881191",
     "status": "completed"
    },
    "tags": []
   },
   "outputs": [
    {
     "name": "stdout",
     "output_type": "stream",
     "text": [
      "Fake    23481\n",
      "Real    21417\n",
      "Name: Real_or_Fake, dtype: int64\n"
     ]
    },
    {
     "data": {
      "text/plain": [
       "<AxesSubplot:xlabel='Real_or_Fake', ylabel='count'>"
      ]
     },
     "execution_count": 7,
     "metadata": {},
     "output_type": "execute_result"
    },
    {
     "data": {
      "image/png": "[encoded data removed]",
      "text/plain": [
       "<Figure size 432x288 with 1 Axes>"
      ]
     },
     "metadata": {
      "needs_background": "light"
     },
     "output_type": "display_data"
    }
   ],
   "source": [
    "# Count of real and fake news\n",
    "print(news['Real_or_Fake'].value_counts())\n",
    "\n",
    "sns.countplot(x='Real_or_Fake',data=news)"
   ]
  },
  {
   "cell_type": "code",
   "execution_count": 8,
   "id": "democratic-identifier",
   "metadata": {
    "execution": {
     "iopub.execute_input": "2021-06-21T06:11:25.227104Z",
     "iopub.status.busy": "2021-06-21T06:11:25.226341Z",
     "iopub.status.idle": "2021-06-21T06:11:25.230486Z",
     "shell.execute_reply": "2021-06-21T06:11:25.231018Z",
     "shell.execute_reply.started": "2021-06-21T04:52:00.374796Z"
    },
    "papermill": {
     "duration": 0.05664,
     "end_time": "2021-06-21T06:11:25.231234",
     "exception": false,
     "start_time": "2021-06-21T06:11:25.174594",
     "status": "completed"
    },
    "tags": []
   },
   "outputs": [
    {
     "data": {
      "text/plain": [
       "0"
      ]
     },
     "execution_count": 8,
     "metadata": {},
     "output_type": "execute_result"
    }
   ],
   "source": [
    "# Let's check if there is any null value in text column.\n",
    "news['text'].isnull().sum()"
   ]
  },
  {
   "cell_type": "markdown",
   "id": "addressed-tyler",
   "metadata": {
    "papermill": {
     "duration": 0.035554,
     "end_time": "2021-06-21T06:11:25.302900",
     "exception": false,
     "start_time": "2021-06-21T06:11:25.267346",
     "status": "completed"
    },
    "tags": []
   },
   "source": [
    "**There is no null value.But there might be empty string, we will deal with it later**"
   ]
  },
  {
   "cell_type": "markdown",
   "id": "downtown-candy",
   "metadata": {
    "papermill": {
     "duration": 0.03555,
     "end_time": "2021-06-21T06:11:25.374638",
     "exception": false,
     "start_time": "2021-06-21T06:11:25.339088",
     "status": "completed"
    },
    "tags": []
   },
   "source": [
    "# Data Cleaning"
   ]
  },
  {
   "cell_type": "markdown",
   "id": "quarterly-vienna",
   "metadata": {
    "papermill": {
     "duration": 0.035312,
     "end_time": "2021-06-21T06:11:25.445692",
     "exception": false,
     "start_time": "2021-06-21T06:11:25.410380",
     "status": "completed"
    },
    "tags": []
   },
   "source": [
    "**URL**"
   ]
  },
  {
   "cell_type": "code",
   "execution_count": 9,
   "id": "viral-hospital",
   "metadata": {
    "execution": {
     "iopub.execute_input": "2021-06-21T06:11:25.521220Z",
     "iopub.status.busy": "2021-06-21T06:11:25.520385Z",
     "iopub.status.idle": "2021-06-21T06:11:25.525846Z",
     "shell.execute_reply": "2021-06-21T06:11:25.526366Z",
     "shell.execute_reply.started": "2021-06-21T04:54:36.568341Z"
    },
    "papermill": {
     "duration": 0.044986,
     "end_time": "2021-06-21T06:11:25.526576",
     "exception": false,
     "start_time": "2021-06-21T06:11:25.481590",
     "status": "completed"
    },
    "tags": []
   },
   "outputs": [
    {
     "data": {
      "text/plain": [
       "'https://www.youtube.com/watch?v=6VN1maBEKIk'"
      ]
     },
     "execution_count": 9,
     "metadata": {},
     "output_type": "execute_result"
    }
   ],
   "source": [
    "# Let's read one news\n",
    "news['text'].iloc[33390]"
   ]
  },
  {
   "cell_type": "markdown",
   "id": "binary-dancing",
   "metadata": {
    "papermill": {
     "duration": 0.036402,
     "end_time": "2021-06-21T06:11:25.598855",
     "exception": false,
     "start_time": "2021-06-21T06:11:25.562453",
     "status": "completed"
    },
    "tags": []
   },
   "source": [
    "**There might be a url provided in a news text which will not be useful as they provide no information in the form of text.We have to go to the url to obtain more information.Let's remove any url present in the text for all the news**"
   ]
  },
  {
   "cell_type": "code",
   "execution_count": 10,
   "id": "linear-series",
   "metadata": {
    "execution": {
     "iopub.execute_input": "2021-06-21T06:11:25.675759Z",
     "iopub.status.busy": "2021-06-21T06:11:25.675014Z",
     "iopub.status.idle": "2021-06-21T06:11:33.740121Z",
     "shell.execute_reply": "2021-06-21T06:11:33.739508Z",
     "shell.execute_reply.started": "2021-06-21T05:00:23.667Z"
    },
    "papermill": {
     "duration": 8.105024,
     "end_time": "2021-06-21T06:11:33.740307",
     "exception": false,
     "start_time": "2021-06-21T06:11:25.635283",
     "status": "completed"
    },
    "tags": []
   },
   "outputs": [],
   "source": [
    "# Function to remove the url\n",
    "def remove_url(text):\n",
    "    text = text.split(' ')\n",
    "    text1 = ''\n",
    "    for word in text:\n",
    "        if ('.com' in word) or ('https' in word) or ('bit.ly' in word):\n",
    "            continue\n",
    "        else:\n",
    "            text1 += (word+' ')\n",
    "    return text1\n",
    "\n",
    "# Lets apply this on news text\n",
    "news['text'] = news['text'].apply(remove_url)"
   ]
  },
  {
   "cell_type": "markdown",
   "id": "laughing-slovak",
   "metadata": {
    "papermill": {
     "duration": 0.036835,
     "end_time": "2021-06-21T06:11:33.815289",
     "exception": false,
     "start_time": "2021-06-21T06:11:33.778454",
     "status": "completed"
    },
    "tags": []
   },
   "source": [
    "**Empty String**"
   ]
  },
  {
   "cell_type": "code",
   "execution_count": 11,
   "id": "color-thinking",
   "metadata": {
    "execution": {
     "iopub.execute_input": "2021-06-21T06:11:33.928135Z",
     "iopub.status.busy": "2021-06-21T06:11:33.907393Z",
     "iopub.status.idle": "2021-06-21T06:11:34.003421Z",
     "shell.execute_reply": "2021-06-21T06:11:34.002268Z",
     "shell.execute_reply.started": "2021-06-21T05:05:14.056784Z"
    },
    "papermill": {
     "duration": 0.152379,
     "end_time": "2021-06-21T06:11:34.003700",
     "exception": false,
     "start_time": "2021-06-21T06:11:33.851321",
     "status": "completed"
    },
    "tags": []
   },
   "outputs": [
    {
     "name": "stdout",
     "output_type": "stream",
     "text": [
      "There are total 715 rows with empty string as news text\n"
     ]
    }
   ],
   "source": [
    "# Let's check if any news text is just an empty string\n",
    "\n",
    "# empty will hold the index of the empty string text\n",
    "empty = []\n",
    "\n",
    "# for loop to find the empty string\n",
    "for i,title,text,*_ in news.itertuples():\n",
    "    if text.isspace() or text=='':\n",
    "        empty.append(i)\n",
    "        \n",
    "# number of rows with empty string as form of news text\n",
    "print(f\"There are total {len(empty)} rows with empty string as news text\")\n"
   ]
  },
  {
   "cell_type": "code",
   "execution_count": 12,
   "id": "angry-thumbnail",
   "metadata": {
    "execution": {
     "iopub.execute_input": "2021-06-21T06:11:34.085770Z",
     "iopub.status.busy": "2021-06-21T06:11:34.084385Z",
     "iopub.status.idle": "2021-06-21T06:11:34.098114Z",
     "shell.execute_reply": "2021-06-21T06:11:34.097484Z",
     "shell.execute_reply.started": "2021-06-21T05:06:24.5275Z"
    },
    "papermill": {
     "duration": 0.055931,
     "end_time": "2021-06-21T06:11:34.098304",
     "exception": false,
     "start_time": "2021-06-21T06:11:34.042373",
     "status": "completed"
    },
    "tags": []
   },
   "outputs": [],
   "source": [
    "# Let's remove these empty strings\n",
    "news.drop(empty,inplace = True)"
   ]
  },
  {
   "cell_type": "markdown",
   "id": "metropolitan-premium",
   "metadata": {
    "papermill": {
     "duration": 0.035839,
     "end_time": "2021-06-21T06:11:34.172229",
     "exception": false,
     "start_time": "2021-06-21T06:11:34.136390",
     "status": "completed"
    },
    "tags": []
   },
   "source": [
    "**HTML tags**"
   ]
  },
  {
   "cell_type": "code",
   "execution_count": 13,
   "id": "electric-nature",
   "metadata": {
    "execution": {
     "iopub.execute_input": "2021-06-21T06:11:34.269246Z",
     "iopub.status.busy": "2021-06-21T06:11:34.267711Z",
     "iopub.status.idle": "2021-06-21T06:11:44.061342Z",
     "shell.execute_reply": "2021-06-21T06:11:44.060721Z",
     "shell.execute_reply.started": "2021-06-21T05:10:57.748004Z"
    },
    "papermill": {
     "duration": 9.853171,
     "end_time": "2021-06-21T06:11:44.061518",
     "exception": false,
     "start_time": "2021-06-21T06:11:34.208347",
     "status": "completed"
    },
    "tags": []
   },
   "outputs": [
    {
     "name": "stdout",
     "output_type": "stream",
     "text": [
      "Collecting beautifulsoup4\r\n",
      "  Downloading beautifulsoup4-4.9.3-py3-none-any.whl (115 kB)\r\n",
      "\u001b[K     |████████████████████████████████| 115 kB 1.3 MB/s \r\n",
      "\u001b[?25hCollecting soupsieve>1.2\r\n",
      "  Downloading soupsieve-2.2.1-py3-none-any.whl (33 kB)\r\n",
      "Installing collected packages: soupsieve, beautifulsoup4\r\n",
      "Successfully installed beautifulsoup4-4.9.3 soupsieve-2.2.1\r\n",
      "Note: you may need to restart the kernel to use updated packages.\n"
     ]
    }
   ],
   "source": [
    "pip install beautifulsoup4"
   ]
  },
  {
   "cell_type": "code",
   "execution_count": 14,
   "id": "annoying-official",
   "metadata": {
    "execution": {
     "iopub.execute_input": "2021-06-21T06:11:44.145815Z",
     "iopub.status.busy": "2021-06-21T06:11:44.145035Z",
     "iopub.status.idle": "2021-06-21T06:11:56.663002Z",
     "shell.execute_reply": "2021-06-21T06:11:56.662220Z",
     "shell.execute_reply.started": "2021-06-21T05:11:17.016482Z"
    },
    "papermill": {
     "duration": 12.561082,
     "end_time": "2021-06-21T06:11:56.663169",
     "exception": false,
     "start_time": "2021-06-21T06:11:44.102087",
     "status": "completed"
    },
    "tags": []
   },
   "outputs": [],
   "source": [
    "# Let's remove any HTML tags present in news text\n",
    "# We can use BeautifulSoup to do it\n",
    "from bs4 import BeautifulSoup\n",
    "\n",
    "# function to remove the HTML tags\n",
    "def remove_html(text):\n",
    "    soup = BeautifulSoup(text)\n",
    "    text = soup.get_text()\n",
    "    \n",
    "    return text\n",
    "\n",
    "# Let's apply the above function on news text\n",
    "news['text'] = news['text'].apply(remove_html)"
   ]
  },
  {
   "cell_type": "code",
   "execution_count": 15,
   "id": "double-scenario",
   "metadata": {
    "execution": {
     "iopub.execute_input": "2021-06-21T06:11:56.750444Z",
     "iopub.status.busy": "2021-06-21T06:11:56.749773Z",
     "iopub.status.idle": "2021-06-21T06:11:56.759852Z",
     "shell.execute_reply": "2021-06-21T06:11:56.760603Z",
     "shell.execute_reply.started": "2021-06-21T05:12:02.607797Z"
    },
    "papermill": {
     "duration": 0.057812,
     "end_time": "2021-06-21T06:11:56.760879",
     "exception": false,
     "start_time": "2021-06-21T06:11:56.703067",
     "status": "completed"
    },
    "tags": []
   },
   "outputs": [
    {
     "data": {
      "text/plain": [
       "'WASHINGTON (Reuters) - The head of a conservative '"
      ]
     },
     "execution_count": 15,
     "metadata": {},
     "output_type": "execute_result"
    }
   ],
   "source": [
    "# Let's read some more news\n",
    "news['text'][0][:50]"
   ]
  },
  {
   "cell_type": "code",
   "execution_count": 16,
   "id": "consolidated-worship",
   "metadata": {
    "execution": {
     "iopub.execute_input": "2021-06-21T06:11:56.851186Z",
     "iopub.status.busy": "2021-06-21T06:11:56.850222Z",
     "iopub.status.idle": "2021-06-21T06:11:56.854989Z",
     "shell.execute_reply": "2021-06-21T06:11:56.854394Z",
     "shell.execute_reply.started": "2021-06-21T05:12:10.184891Z"
    },
    "papermill": {
     "duration": 0.05136,
     "end_time": "2021-06-21T06:11:56.855152",
     "exception": false,
     "start_time": "2021-06-21T06:11:56.803792",
     "status": "completed"
    },
    "tags": []
   },
   "outputs": [
    {
     "data": {
      "text/plain": [
       "'WEST PALM BEACH, Fla (Reuters) - President Donald '"
      ]
     },
     "execution_count": 16,
     "metadata": {},
     "output_type": "execute_result"
    }
   ],
   "source": [
    "news['text'][6][:50]"
   ]
  },
  {
   "cell_type": "code",
   "execution_count": 17,
   "id": "marine-mouth",
   "metadata": {
    "execution": {
     "iopub.execute_input": "2021-06-21T06:11:56.944297Z",
     "iopub.status.busy": "2021-06-21T06:11:56.942294Z",
     "iopub.status.idle": "2021-06-21T06:11:57.182595Z",
     "shell.execute_reply": "2021-06-21T06:11:57.181851Z",
     "shell.execute_reply.started": "2021-06-21T05:14:11.710981Z"
    },
    "papermill": {
     "duration": 0.287196,
     "end_time": "2021-06-21T06:11:57.182785",
     "exception": false,
     "start_time": "2021-06-21T06:11:56.895589",
     "status": "completed"
    },
    "tags": []
   },
   "outputs": [],
   "source": [
    "# WASHINGTON (Reuters) or SEATTLE/WASHINGTON (Reuters) are there at the begining of many news text.\n",
    "# Our model might learn that if these words are at the begining of the news text,they must belong to one category and might \n",
    "# not try to learn from the text that follows.\n",
    "\n",
    "# Let's go ahead and remove these words from the news text\n",
    "# we will split the text on the basis of (Reuters) and ignore the first part\n",
    "\n",
    "# function to perform the split\n",
    "def split_news(text):\n",
    "    if '(Reuters)' in text:\n",
    "        text = text.split('(Reuters)')\n",
    "\n",
    "        return ' '.join(text[1:])\n",
    "    return text\n",
    "\n",
    "# Applying the above function on the news text\n",
    "news['text'] = news['text'].apply(split_news)"
   ]
  },
  {
   "cell_type": "markdown",
   "id": "surprised-nepal",
   "metadata": {
    "papermill": {
     "duration": 0.039807,
     "end_time": "2021-06-21T06:11:57.262910",
     "exception": false,
     "start_time": "2021-06-21T06:11:57.223103",
     "status": "completed"
    },
    "tags": []
   },
   "source": [
    "**Punctuation**"
   ]
  },
  {
   "cell_type": "code",
   "execution_count": 18,
   "id": "flying-relations",
   "metadata": {
    "execution": {
     "iopub.execute_input": "2021-06-21T06:11:57.373618Z",
     "iopub.status.busy": "2021-06-21T06:11:57.368528Z",
     "iopub.status.idle": "2021-06-21T06:12:02.310659Z",
     "shell.execute_reply": "2021-06-21T06:12:02.309997Z",
     "shell.execute_reply.started": "2021-06-21T05:20:10.19906Z"
    },
    "papermill": {
     "duration": 5.007787,
     "end_time": "2021-06-21T06:12:02.310869",
     "exception": false,
     "start_time": "2021-06-21T06:11:57.303082",
     "status": "completed"
    },
    "tags": []
   },
   "outputs": [],
   "source": [
    "# Let's remove the punctuations from the news text\n",
    "import string\n",
    "\n",
    "punctuations = string.punctuation\n",
    "\n",
    "# Lets add '\\n','\\n\\n' and ' ' in punctuations\n",
    "punctuations += '\\n \\n\\n'\n",
    "\n",
    "#function to remove the punctuations\n",
    "def remove_punct(text):\n",
    "    text = text.split(' ')\n",
    "    text  = [word.lower() for word in text if word not in punctuations]\n",
    "    \n",
    "    return ' '.join(text)\n",
    "\n",
    "# applying the above function in news text\n",
    "news['text'] = news['text'].apply(remove_punct)"
   ]
  },
  {
   "cell_type": "markdown",
   "id": "after-president",
   "metadata": {
    "papermill": {
     "duration": 0.040484,
     "end_time": "2021-06-21T06:12:02.395548",
     "exception": false,
     "start_time": "2021-06-21T06:12:02.355064",
     "status": "completed"
    },
    "tags": []
   },
   "source": [
    "**Let's divide the data into X and y. X will be news text and y would be label- Fake or Real.**"
   ]
  },
  {
   "cell_type": "code",
   "execution_count": 19,
   "id": "breathing-bhutan",
   "metadata": {
    "execution": {
     "iopub.execute_input": "2021-06-21T06:12:02.488325Z",
     "iopub.status.busy": "2021-06-21T06:12:02.486965Z",
     "iopub.status.idle": "2021-06-21T06:12:02.496645Z",
     "shell.execute_reply": "2021-06-21T06:12:02.497182Z",
     "shell.execute_reply.started": "2021-06-21T05:27:50.470171Z"
    },
    "papermill": {
     "duration": 0.06168,
     "end_time": "2021-06-21T06:12:02.497425",
     "exception": false,
     "start_time": "2021-06-21T06:12:02.435745",
     "status": "completed"
    },
    "tags": []
   },
   "outputs": [],
   "source": [
    "X = news['text']\n",
    "y = news['Real_or_Fake']\n",
    "\n",
    "# Lets do the one hot encoding to convet y\n",
    "encoded_y = pd.get_dummies(y,drop_first=True)"
   ]
  },
  {
   "cell_type": "markdown",
   "id": "digital-giant",
   "metadata": {
    "papermill": {
     "duration": 0.039761,
     "end_time": "2021-06-21T06:12:02.582073",
     "exception": false,
     "start_time": "2021-06-21T06:12:02.542312",
     "status": "completed"
    },
    "tags": []
   },
   "source": [
    "**1 in encoded_y means Real news and 0 means Fake news**"
   ]
  },
  {
   "cell_type": "code",
   "execution_count": 20,
   "id": "illegal-fairy",
   "metadata": {
    "execution": {
     "iopub.execute_input": "2021-06-21T06:12:02.670586Z",
     "iopub.status.busy": "2021-06-21T06:12:02.669622Z",
     "iopub.status.idle": "2021-06-21T06:12:03.231188Z",
     "shell.execute_reply": "2021-06-21T06:12:03.230517Z",
     "shell.execute_reply.started": "2021-06-21T05:50:17.656548Z"
    },
    "papermill": {
     "duration": 0.608121,
     "end_time": "2021-06-21T06:12:03.231377",
     "exception": false,
     "start_time": "2021-06-21T06:12:02.623256",
     "status": "completed"
    },
    "tags": []
   },
   "outputs": [],
   "source": [
    "# Libraries to split the data into train and test data,create maodel and evaluating the matrix\n",
    "from sklearn.model_selection import train_test_split\n",
    "from sklearn.feature_extraction.text import TfidfVectorizer\n",
    "from sklearn.pipeline import Pipeline\n",
    "from sklearn.linear_model import LogisticRegression\n",
    "from sklearn.naive_bayes import MultinomialNB\n",
    "from sklearn.svm import LinearSVC\n",
    "from sklearn.metrics import accuracy_score,classification_report"
   ]
  },
  {
   "cell_type": "code",
   "execution_count": 21,
   "id": "first-keeping",
   "metadata": {
    "execution": {
     "iopub.execute_input": "2021-06-21T06:12:03.317518Z",
     "iopub.status.busy": "2021-06-21T06:12:03.316798Z",
     "iopub.status.idle": "2021-06-21T06:12:03.332563Z",
     "shell.execute_reply": "2021-06-21T06:12:03.331916Z",
     "shell.execute_reply.started": "2021-06-21T05:50:30.940096Z"
    },
    "papermill": {
     "duration": 0.05998,
     "end_time": "2021-06-21T06:12:03.332749",
     "exception": false,
     "start_time": "2021-06-21T06:12:03.272769",
     "status": "completed"
    },
    "tags": []
   },
   "outputs": [],
   "source": [
    "# Lets split the data into train and test data. We will use 25% of the data as test data\n",
    "X_train,X_test,y_train,y_test = train_test_split(X,encoded_y.values.reshape(-1,),test_size=0.25,random_state=42)"
   ]
  },
  {
   "cell_type": "markdown",
   "id": "minimal-packet",
   "metadata": {
    "papermill": {
     "duration": 0.040318,
     "end_time": "2021-06-21T06:12:03.413395",
     "exception": false,
     "start_time": "2021-06-21T06:12:03.373077",
     "status": "completed"
    },
    "tags": []
   },
   "source": [
    "**Naive_bayes model**"
   ]
  },
  {
   "cell_type": "code",
   "execution_count": 22,
   "id": "fourth-bathroom",
   "metadata": {
    "execution": {
     "iopub.execute_input": "2021-06-21T06:12:03.499770Z",
     "iopub.status.busy": "2021-06-21T06:12:03.499073Z",
     "iopub.status.idle": "2021-06-21T06:12:19.736979Z",
     "shell.execute_reply": "2021-06-21T06:12:19.736413Z",
     "shell.execute_reply.started": "2021-06-21T05:50:33.734525Z"
    },
    "papermill": {
     "duration": 16.281857,
     "end_time": "2021-06-21T06:12:19.737166",
     "exception": false,
     "start_time": "2021-06-21T06:12:03.455309",
     "status": "completed"
    },
    "tags": []
   },
   "outputs": [
    {
     "data": {
      "text/plain": [
       "Pipeline(steps=[('vector', TfidfVectorizer(stop_words='english')),\n",
       "                ('classifier', MultinomialNB())])"
      ]
     },
     "execution_count": 22,
     "metadata": {},
     "output_type": "execute_result"
    }
   ],
   "source": [
    "# creating a naive model\n",
    "pipeline_naive = Pipeline([\n",
    "    ('vector',TfidfVectorizer(stop_words='english')),\n",
    "    ('classifier',MultinomialNB())\n",
    "])\n",
    "\n",
    "# training the model\n",
    "pipeline_naive.fit(X_train,y_train)"
   ]
  },
  {
   "cell_type": "code",
   "execution_count": 23,
   "id": "secret-pennsylvania",
   "metadata": {
    "execution": {
     "iopub.execute_input": "2021-06-21T06:12:19.864459Z",
     "iopub.status.busy": "2021-06-21T06:12:19.858983Z",
     "iopub.status.idle": "2021-06-21T06:12:24.989464Z",
     "shell.execute_reply": "2021-06-21T06:12:24.990072Z",
     "shell.execute_reply.started": "2021-06-21T05:50:48.381944Z"
    },
    "papermill": {
     "duration": 5.21255,
     "end_time": "2021-06-21T06:12:24.990284",
     "exception": false,
     "start_time": "2021-06-21T06:12:19.777734",
     "status": "completed"
    },
    "tags": []
   },
   "outputs": [],
   "source": [
    "# prediction\n",
    "predict_naive = pipeline_naive.predict(X_test)"
   ]
  },
  {
   "cell_type": "code",
   "execution_count": 24,
   "id": "surprising-louisiana",
   "metadata": {
    "execution": {
     "iopub.execute_input": "2021-06-21T06:12:25.077075Z",
     "iopub.status.busy": "2021-06-21T06:12:25.075964Z",
     "iopub.status.idle": "2021-06-21T06:12:25.106930Z",
     "shell.execute_reply": "2021-06-21T06:12:25.105824Z",
     "shell.execute_reply.started": "2021-06-21T05:58:49.373471Z"
    },
    "papermill": {
     "duration": 0.075293,
     "end_time": "2021-06-21T06:12:25.107185",
     "exception": false,
     "start_time": "2021-06-21T06:12:25.031892",
     "status": "completed"
    },
    "tags": []
   },
   "outputs": [
    {
     "name": "stdout",
     "output_type": "stream",
     "text": [
      "Naive model has 93.0% accuracy\n",
      "\n",
      "\n",
      "              precision    recall  f1-score   support\n",
      "\n",
      "           0       0.92      0.94      0.93      5662\n",
      "           1       0.93      0.92      0.93      5384\n",
      "\n",
      "    accuracy                           0.93     11046\n",
      "   macro avg       0.93      0.93      0.93     11046\n",
      "weighted avg       0.93      0.93      0.93     11046\n",
      "\n"
     ]
    }
   ],
   "source": [
    "# Evaluating the naive model\n",
    "acc_naive = accuracy_score(y_test,predict_naive)\n",
    "print(f'Naive model has {acc_naive.round(2)*100}% accuracy')\n",
    "print('\\n')\n",
    "print(classification_report(y_test,predict_naive))"
   ]
  },
  {
   "cell_type": "markdown",
   "id": "lovely-briefing",
   "metadata": {
    "papermill": {
     "duration": 0.040275,
     "end_time": "2021-06-21T06:12:25.190196",
     "exception": false,
     "start_time": "2021-06-21T06:12:25.149921",
     "status": "completed"
    },
    "tags": []
   },
   "source": [
    "**Logistic Regression Model**"
   ]
  },
  {
   "cell_type": "code",
   "execution_count": 25,
   "id": "republican-trance",
   "metadata": {
    "execution": {
     "iopub.execute_input": "2021-06-21T06:12:25.296502Z",
     "iopub.status.busy": "2021-06-21T06:12:25.280729Z",
     "iopub.status.idle": "2021-06-21T06:12:48.285610Z",
     "shell.execute_reply": "2021-06-21T06:12:48.283725Z",
     "shell.execute_reply.started": "2021-06-21T05:51:57.845733Z"
    },
    "papermill": {
     "duration": 23.054961,
     "end_time": "2021-06-21T06:12:48.285939",
     "exception": false,
     "start_time": "2021-06-21T06:12:25.230978",
     "status": "completed"
    },
    "tags": []
   },
   "outputs": [
    {
     "data": {
      "text/plain": [
       "Pipeline(steps=[('vector', TfidfVectorizer(stop_words='english')),\n",
       "                ('classifier', LogisticRegression())])"
      ]
     },
     "execution_count": 25,
     "metadata": {},
     "output_type": "execute_result"
    }
   ],
   "source": [
    "# creating a logistic model\n",
    "pipeline_logistic = Pipeline([\n",
    "    ('vector',TfidfVectorizer(stop_words='english')),\n",
    "    ('classifier',LogisticRegression())\n",
    "])\n",
    "\n",
    "# training the model\n",
    "pipeline_logistic.fit(X_train,y_train)"
   ]
  },
  {
   "cell_type": "code",
   "execution_count": 26,
   "id": "removed-passage",
   "metadata": {
    "execution": {
     "iopub.execute_input": "2021-06-21T06:12:48.448238Z",
     "iopub.status.busy": "2021-06-21T06:12:48.422440Z",
     "iopub.status.idle": "2021-06-21T06:12:53.532799Z",
     "shell.execute_reply": "2021-06-21T06:12:53.531647Z",
     "shell.execute_reply.started": "2021-06-21T05:52:33.279523Z"
    },
    "papermill": {
     "duration": 5.176504,
     "end_time": "2021-06-21T06:12:53.532986",
     "exception": false,
     "start_time": "2021-06-21T06:12:48.356482",
     "status": "completed"
    },
    "tags": []
   },
   "outputs": [],
   "source": [
    "# prediction\n",
    "predict_logistic = pipeline_logistic.predict(X_test)"
   ]
  },
  {
   "cell_type": "code",
   "execution_count": 27,
   "id": "elegant-melbourne",
   "metadata": {
    "execution": {
     "iopub.execute_input": "2021-06-21T06:12:53.622323Z",
     "iopub.status.busy": "2021-06-21T06:12:53.621538Z",
     "iopub.status.idle": "2021-06-21T06:12:53.648083Z",
     "shell.execute_reply": "2021-06-21T06:12:53.649032Z",
     "shell.execute_reply.started": "2021-06-21T05:59:01.974774Z"
    },
    "papermill": {
     "duration": 0.075508,
     "end_time": "2021-06-21T06:12:53.649464",
     "exception": false,
     "start_time": "2021-06-21T06:12:53.573956",
     "status": "completed"
    },
    "tags": []
   },
   "outputs": [
    {
     "name": "stdout",
     "output_type": "stream",
     "text": [
      "LogisticRegression model has 98.0% accuracy\n",
      "\n",
      "\n",
      "              precision    recall  f1-score   support\n",
      "\n",
      "           0       0.98      0.98      0.98      5662\n",
      "           1       0.97      0.98      0.98      5384\n",
      "\n",
      "    accuracy                           0.98     11046\n",
      "   macro avg       0.98      0.98      0.98     11046\n",
      "weighted avg       0.98      0.98      0.98     11046\n",
      "\n"
     ]
    }
   ],
   "source": [
    "# Evaluating the logistic model\n",
    "acc_logistic = accuracy_score(y_test,predict_logistic)\n",
    "print(f'LogisticRegression model has {acc_logistic.round(2)*100}% accuracy')\n",
    "print('\\n')\n",
    "print(classification_report(y_test,predict_logistic))"
   ]
  },
  {
   "cell_type": "markdown",
   "id": "casual-cause",
   "metadata": {
    "papermill": {
     "duration": 0.040676,
     "end_time": "2021-06-21T06:12:53.732245",
     "exception": false,
     "start_time": "2021-06-21T06:12:53.691569",
     "status": "completed"
    },
    "tags": []
   },
   "source": [
    "**LinearSVC model**"
   ]
  },
  {
   "cell_type": "code",
   "execution_count": 28,
   "id": "honey-imperial",
   "metadata": {
    "execution": {
     "iopub.execute_input": "2021-06-21T06:12:53.822283Z",
     "iopub.status.busy": "2021-06-21T06:12:53.821494Z",
     "iopub.status.idle": "2021-06-21T06:13:10.870016Z",
     "shell.execute_reply": "2021-06-21T06:13:10.869439Z",
     "shell.execute_reply.started": "2021-06-21T05:55:32.994257Z"
    },
    "papermill": {
     "duration": 17.094312,
     "end_time": "2021-06-21T06:13:10.870196",
     "exception": false,
     "start_time": "2021-06-21T06:12:53.775884",
     "status": "completed"
    },
    "tags": []
   },
   "outputs": [
    {
     "data": {
      "text/plain": [
       "Pipeline(steps=[('vector', TfidfVectorizer(stop_words='english')),\n",
       "                ('classifier', LinearSVC())])"
      ]
     },
     "execution_count": 28,
     "metadata": {},
     "output_type": "execute_result"
    }
   ],
   "source": [
    "# creating a LinearSVC model\n",
    "pipeline_svc = Pipeline([\n",
    "    ('vector',TfidfVectorizer(stop_words='english')),\n",
    "    ('classifier',LinearSVC())\n",
    "])\n",
    "\n",
    "# training the model\n",
    "pipeline_svc.fit(X_train,y_train)"
   ]
  },
  {
   "cell_type": "code",
   "execution_count": 29,
   "id": "cloudy-wound",
   "metadata": {
    "execution": {
     "iopub.execute_input": "2021-06-21T06:13:10.973607Z",
     "iopub.status.busy": "2021-06-21T06:13:10.968383Z",
     "iopub.status.idle": "2021-06-21T06:13:16.028594Z",
     "shell.execute_reply": "2021-06-21T06:13:16.027992Z",
     "shell.execute_reply.started": "2021-06-21T05:56:30.592584Z"
    },
    "papermill": {
     "duration": 5.116528,
     "end_time": "2021-06-21T06:13:16.028800",
     "exception": false,
     "start_time": "2021-06-21T06:13:10.912272",
     "status": "completed"
    },
    "tags": []
   },
   "outputs": [],
   "source": [
    "# prediction\n",
    "predict_svc = pipeline_svc.predict(X_test)"
   ]
  },
  {
   "cell_type": "code",
   "execution_count": 30,
   "id": "loved-aruba",
   "metadata": {
    "execution": {
     "iopub.execute_input": "2021-06-21T06:13:16.119332Z",
     "iopub.status.busy": "2021-06-21T06:13:16.118610Z",
     "iopub.status.idle": "2021-06-21T06:13:16.146436Z",
     "shell.execute_reply": "2021-06-21T06:13:16.145376Z",
     "shell.execute_reply.started": "2021-06-21T05:59:15.887416Z"
    },
    "papermill": {
     "duration": 0.075309,
     "end_time": "2021-06-21T06:13:16.146689",
     "exception": false,
     "start_time": "2021-06-21T06:13:16.071380",
     "status": "completed"
    },
    "tags": []
   },
   "outputs": [
    {
     "name": "stdout",
     "output_type": "stream",
     "text": [
      "LinearSVC model has 99.0% accuracy\n",
      "\n",
      "\n",
      "              precision    recall  f1-score   support\n",
      "\n",
      "           0       0.99      0.98      0.99      5662\n",
      "           1       0.98      0.99      0.99      5384\n",
      "\n",
      "    accuracy                           0.99     11046\n",
      "   macro avg       0.99      0.99      0.99     11046\n",
      "weighted avg       0.99      0.99      0.99     11046\n",
      "\n"
     ]
    }
   ],
   "source": [
    "# Evaluating the LinearSVC model\n",
    "acc_svc = accuracy_score(y_test,predict_svc)\n",
    "print(f'LinearSVC model has {acc_svc.round(2)*100}% accuracy')\n",
    "print('\\n')\n",
    "print(classification_report(y_test,predict_svc))"
   ]
  },
  {
   "cell_type": "code",
   "execution_count": 31,
   "id": "tough-detective",
   "metadata": {
    "execution": {
     "iopub.execute_input": "2021-06-21T06:13:16.259818Z",
     "iopub.status.busy": "2021-06-21T06:13:16.257206Z",
     "iopub.status.idle": "2021-06-21T06:13:16.393528Z",
     "shell.execute_reply": "2021-06-21T06:13:16.392932Z",
     "shell.execute_reply.started": "2021-06-21T06:03:09.342718Z"
    },
    "papermill": {
     "duration": 0.203443,
     "end_time": "2021-06-21T06:13:16.393718",
     "exception": false,
     "start_time": "2021-06-21T06:13:16.190275",
     "status": "completed"
    },
    "tags": []
   },
   "outputs": [
    {
     "data": {
      "text/plain": [
       "Text(0, 0.5, 'Accuracy')"
      ]
     },
     "execution_count": 31,
     "metadata": {},
     "output_type": "execute_result"
    },
    {
     "data": {
      "image/png": "[encoded data removed]",
      "text/plain": [
       "<Figure size 432x288 with 1 Axes>"
      ]
     },
     "metadata": {},
     "output_type": "display_data"
    }
   ],
   "source": [
    "# Let's visualize the accuracy of all the three models\n",
    "models = {\n",
    "    'Naive':acc_naive,\n",
    "    'Logistic':acc_logistic,\n",
    "    'SVC':acc_svc\n",
    "}\n",
    "\n",
    "sns.set_style('darkgrid')\n",
    "plt.plot(models.keys(),models.values(),marker='*',color='blue',markeredgecolor='red',markeredgewidth=4)\n",
    "plt.xlabel('Models')\n",
    "plt.ylabel('Accuracy')"
   ]
  },
  {
   "cell_type": "markdown",
   "id": "sixth-ghost",
   "metadata": {
    "papermill": {
     "duration": 0.043332,
     "end_time": "2021-06-21T06:13:16.480467",
     "exception": false,
     "start_time": "2021-06-21T06:13:16.437135",
     "status": "completed"
    },
    "tags": []
   },
   "source": [
    "# LinearSVC model performed better as compared to others with 99% accuracy"
   ]
  },
  {
   "cell_type": "code",
   "execution_count": null,
   "id": "subtle-condition",
   "metadata": {
    "papermill": {
     "duration": 0.043448,
     "end_time": "2021-06-21T06:13:16.567500",
     "exception": false,
     "start_time": "2021-06-21T06:13:16.524052",
     "status": "completed"
    },
    "tags": []
   },
   "outputs": [],
   "source": []
  }
 ],
 "metadata": {
  "kernelspec": {
   "display_name": "Python 3",
   "language": "python",
   "name": "python3"
  },
  "language_info": {
   "codemirror_mode": {
    "name": "ipython",
    "version": 3
   },
   "file_extension": ".py",
   "mimetype": "text/x-python",
   "name": "python",
   "nbconvert_exporter": "python",
   "pygments_lexer": "ipython3",
   "version": "3.7.10"
  },
  "papermill": {
   "default_parameters": {},
   "duration": 128.05903,
   "end_time": "2021-06-21T06:13:18.647229",
   "environment_variables": {},
   "exception": null,
   "input_path": "__notebook__.ipynb",
   "output_path": "__notebook__.ipynb",
   "parameters": {},
   "start_time": "2021-06-21T06:11:10.588199",
   "version": "2.3.3"
  }
 },
 "nbformat": 4,
 "nbformat_minor": 5
}
